{
 "cells": [
  {
   "cell_type": "code",
   "execution_count": 1,
   "id": "c1029f8c-e918-4c68-a0e1-a64c799ecdad",
   "metadata": {},
   "outputs": [
    {
     "name": "stdout",
     "output_type": "stream",
     "text": [
      "50\n"
     ]
    }
   ],
   "source": [
    "num=50\n",
    "print(num)"
   ]
  },
  {
   "cell_type": "code",
   "execution_count": 14,
   "id": "4421e9ea-523d-448f-91f3-bc31e1dd6165",
   "metadata": {},
   "outputs": [],
   "source": [
    "import numpy as np\n",
    "def function1():\n",
    "    n_arr = numpy.array([11,22,33,44,55,66])\n",
    "    print(f\"Dtype = {arr.dtype}\");\n",
    "    print(n_arr)\n",
    "    function1()\n",
    "    "
   ]
  },
  {
   "cell_type": "code",
   "execution_count": null,
   "id": "08ced773-2645-4070-9b34-8de10f7d6961",
   "metadata": {},
   "outputs": [],
   "source": []
  },
  {
   "cell_type": "code",
   "execution_count": null,
   "id": "817f4be1-2ac1-4335-a045-ab18a6d4be97",
   "metadata": {},
   "outputs": [],
   "source": []
  },
  {
   "cell_type": "code",
   "execution_count": null,
   "id": "aaed305d-af2d-4a1e-acc2-e515f2318966",
   "metadata": {},
   "outputs": [],
   "source": []
  },
  {
   "cell_type": "code",
   "execution_count": null,
   "id": "515fbed0-d1fe-4152-9c86-c0baff4a4d40",
   "metadata": {},
   "outputs": [],
   "source": []
  }
 ],
 "metadata": {
  "kernelspec": {
   "display_name": "Python 3 (ipykernel)",
   "language": "python",
   "name": "python3"
  },
  "language_info": {
   "codemirror_mode": {
    "name": "ipython",
    "version": 3
   },
   "file_extension": ".py",
   "mimetype": "text/x-python",
   "name": "python",
   "nbconvert_exporter": "python",
   "pygments_lexer": "ipython3",
   "version": "3.10.12"
  }
 },
 "nbformat": 4,
 "nbformat_minor": 5
}
