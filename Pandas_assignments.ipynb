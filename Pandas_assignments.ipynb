{
 "cells": [
  {
   "cell_type": "code",
   "execution_count": 1,
   "id": "00db4bd7-1fab-4836-aa65-469159c2b296",
   "metadata": {},
   "outputs": [],
   "source": [
    "import pandas as pd\n",
    "import numpy as np"
   ]
  },
  {
   "cell_type": "code",
   "execution_count": 3,
   "id": "961be663-f06b-4ea0-9ef6-8c4ff73681c7",
   "metadata": {},
   "outputs": [
    {
     "name": "stdout",
     "output_type": "stream",
     "text": [
      "0    1\n",
      "1    2\n",
      "2    3\n",
      "3    4\n",
      "4    5\n",
      "dtype: int64\n"
     ]
    }
   ],
   "source": [
    "data =[1,2,3,4,5]\n",
    "series = pd.Series(data)\n",
    "print(series)"
   ]
  },
  {
   "cell_type": "code",
   "execution_count": 5,
   "id": "48fd6495-028c-43de-9f0a-eaf607d4d394",
   "metadata": {},
   "outputs": [
    {
     "name": "stdout",
     "output_type": "stream",
     "text": [
      "Python list: <bound method IndexOpsMixin.tolist of 0    1\n",
      "1    2\n",
      "2    3\n",
      "3    4\n",
      "4    5\n",
      "dtype: int64>\n",
      "Type: <class 'method'>\n"
     ]
    }
   ],
   "source": [
    "py_list = series.tolist\n",
    "print(\"Python list:\",py_list)\n",
    "print(\"Type:\",type(py_list))"
   ]
  },
  {
   "cell_type": "code",
   "execution_count": 7,
   "id": "106c9dc4-ac3c-48b2-919b-5cc61d96cba9",
   "metadata": {},
   "outputs": [
    {
     "name": "stdout",
     "output_type": "stream",
     "text": [
      "0     3\n",
      "1     7\n",
      "2    10\n",
      "3    15\n",
      "4    19\n",
      "dtype: int64\n",
      "0    1\n",
      "1    1\n",
      "2    0\n",
      "3    1\n",
      "4    1\n",
      "dtype: int64\n",
      "0     2\n",
      "1    12\n",
      "2    25\n",
      "3    56\n",
      "4    90\n",
      "dtype: int64\n",
      "0    2.000000\n",
      "1    1.333333\n",
      "2    1.000000\n",
      "3    1.142857\n",
      "4    1.111111\n",
      "dtype: float64\n"
     ]
    }
   ],
   "source": [
    "series1 =pd.Series([2,4,5,8,10])\n",
    "series2 =pd.Series([1,3,5,7,9])\n",
    "add = series1 + series2\n",
    "sub = series1 - series2\n",
    "mul = series1 * series2\n",
    "div = series1 / series2\n",
    "print(add)\n",
    "print(sub)\n",
    "print(mul)\n",
    "print(div)"
   ]
  },
  {
   "cell_type": "code",
   "execution_count": 8,
   "id": "0d07588f-e55b-4b6e-a010-e89e7304646b",
   "metadata": {},
   "outputs": [
    {
     "name": "stdout",
     "output_type": "stream",
     "text": [
      "a    100\n",
      "b    200\n",
      "c    300\n",
      "d    400\n",
      "e    500\n",
      "dtype: int64\n"
     ]
    }
   ],
   "source": [
    "dictionary = {'a': 100, 'b': 200, 'c': 300, 'd': 400, 'e': 500}\n",
    "series_from_dict = pd.Series(dictionary)\n",
    "print(series_from_dict)\n"
   ]
  },
  {
   "cell_type": "code",
   "execution_count": 12,
   "id": "3ad87241-c3ff-44d5-af08-5e56332c144a",
   "metadata": {},
   "outputs": [
    {
     "name": "stdout",
     "output_type": "stream",
     "text": [
      "0    10\n",
      "1    20\n",
      "2    30\n",
      "3    40\n",
      "4    50\n",
      "dtype: int64\n"
     ]
    }
   ],
   "source": [
    "numpy_arr = np.array([10, 20, 30, 40, 50])\n",
    "series_np_array = pd.Series(numpy_arr)\n",
    "\n",
    "print(series_np_array)\n"
   ]
  },
  {
   "cell_type": "code",
   "execution_count": 10,
   "id": "a134ea83-c673-46fc-932c-4bb4d702f260",
   "metadata": {},
   "outputs": [
    {
     "name": "stdout",
     "output_type": "stream",
     "text": [
      "0    1\n",
      "1    2\n",
      "2    3\n",
      "3    4\n",
      "4    5\n",
      "dtype: int64\n"
     ]
    }
   ],
   "source": [
    "series_with_strings = pd.Series(['1', '2', '3', '4', '5'])\n",
    "series_as_int = series_with_strings.astype(int)\n",
    "\n",
    "print(series_as_int)\n"
   ]
  },
  {
   "cell_type": "code",
   "execution_count": 11,
   "id": "bf83194b-1a14-4cec-9a91-fde31f515171",
   "metadata": {},
   "outputs": [
    {
     "name": "stdout",
     "output_type": "stream",
     "text": [
      "      Name  Age\n",
      "0    Alice   25\n",
      "1      Bob   30\n",
      "2  Charlie   35\n",
      "3    David   40\n"
     ]
    }
   ],
   "source": [
    "data = {'Name': ['Alice', 'Bob', 'Charlie', 'David'],\n",
    "        'Age': [25, 30, 35, 40]}\n",
    "df = pd.DataFrame(data)\n",
    "\n",
    "print(df)"
   ]
  },
  {
   "cell_type": "code",
   "execution_count": 14,
   "id": "3d97f9f4-9a12-4bc1-98ec-16f6d8c071a2",
   "metadata": {},
   "outputs": [
    {
     "name": "stdout",
     "output_type": "stream",
     "text": [
      "   EmpID     Name\n",
      "0      1   Meenal\n",
      "1      2    Akash\n",
      "2      3  Pranjal\n",
      "3      4  Pranshi\n",
      "4      5   Anjali\n",
      "5      6      ela\n",
      "6      7      eva\n",
      "7      8     Mary\n",
      "8      9   Ruapli\n",
      "9     10  Prerana\n",
      "   EmpID     Name\n",
      "0      1   Meenal\n",
      "1      2    Akash\n",
      "2      3  Pranjal\n",
      "3      4  Pranshi\n",
      "4      5   Anjali\n",
      "   EmpID     Name\n",
      "5      6      ela\n",
      "6      7      eva\n",
      "7      8     Mary\n",
      "8      9   Ruapli\n",
      "9     10  Prerana\n",
      "   EmpID     Name\n",
      "0      1   Meenal\n",
      "1      2    Akash\n",
      "8      9   Ruapli\n",
      "9     10  Prerana\n",
      "Name of 5th employee: Anjali\n",
      "EmpID          4\n",
      "Name     Pranshi\n",
      "Name: 3, dtype: object\n"
     ]
    }
   ],
   "source": [
    "empids = [1,2,3,4,5,6,7,8,9,10]\n",
    "names = ['Meenal','Akash','Pranjal','Pranshi','Anjali','ela','eva','Mary','Ruapli','Prerana']\n",
    "\n",
    "empids_series = pd.Series(empids)\n",
    "names_series = pd.Series(names)\n",
    "emp_df = pd.DataFrame({'EmpID': empids_series, 'Name': names_series})\n",
    "\n",
    "\n",
    "print(emp_df)\n",
    "print(emp_df.head())\n",
    "print(emp_df.tail())\n",
    "\n",
    "print(emp_df.iloc[[0, 1, -2, -1]])\n",
    "print(\"Name of 5th employee:\", emp_df.loc[4, 'Name'])\n",
    "print(emp_df.iloc[3])\n"
   ]
  },
  {
   "cell_type": "code",
   "execution_count": 16,
   "id": "fad9a838-72ed-4057-82ff-a582dae23e6d",
   "metadata": {},
   "outputs": [],
   "source": [
    "df = pd.read_csv(\"Market_Basket_Optimisation.csv\")"
   ]
  },
  {
   "cell_type": "code",
   "execution_count": 18,
   "id": "da8f03c2-19a8-4214-b041-c760c901a7b8",
   "metadata": {},
   "outputs": [
    {
     "name": "stdout",
     "output_type": "stream",
     "text": [
      "First five records of dataset:\n",
      "           shrimp    almonds     avocado    vegetables mix green grapes  \\\n",
      "0         burgers  meatballs        eggs               NaN          NaN   \n",
      "1         chutney        NaN         NaN               NaN          NaN   \n",
      "2          turkey    avocado         NaN               NaN          NaN   \n",
      "3   mineral water       milk  energy bar  whole wheat rice    green tea   \n",
      "4  low fat yogurt        NaN         NaN               NaN          NaN   \n",
      "\n",
      "  whole weat flour yams cottage cheese energy drink tomato juice  \\\n",
      "0              NaN  NaN            NaN          NaN          NaN   \n",
      "1              NaN  NaN            NaN          NaN          NaN   \n",
      "2              NaN  NaN            NaN          NaN          NaN   \n",
      "3              NaN  NaN            NaN          NaN          NaN   \n",
      "4              NaN  NaN            NaN          NaN          NaN   \n",
      "\n",
      "  low fat yogurt green tea honey salad mineral water salmon antioxydant juice  \\\n",
      "0            NaN       NaN   NaN   NaN           NaN    NaN               NaN   \n",
      "1            NaN       NaN   NaN   NaN           NaN    NaN               NaN   \n",
      "2            NaN       NaN   NaN   NaN           NaN    NaN               NaN   \n",
      "3            NaN       NaN   NaN   NaN           NaN    NaN               NaN   \n",
      "4            NaN       NaN   NaN   NaN           NaN    NaN               NaN   \n",
      "\n",
      "  frozen smoothie spinach  olive oil  \n",
      "0             NaN     NaN        NaN  \n",
      "1             NaN     NaN        NaN  \n",
      "2             NaN     NaN        NaN  \n",
      "3             NaN     NaN        NaN  \n",
      "4             NaN     NaN        NaN  \n"
     ]
    }
   ],
   "source": [
    "\n",
    "print(\"First five records of dataset:\")\n",
    "print(df.head())"
   ]
  },
  {
   "cell_type": "code",
   "execution_count": 19,
   "id": "0dbb6ee9-82b0-415d-bce1-634941714281",
   "metadata": {},
   "outputs": [
    {
     "name": "stdout",
     "output_type": "stream",
     "text": [
      "        shrimp            almonds      avocado  vegetables mix green grapes  \\\n",
      "7495    butter         light mayo  fresh bread             NaN          NaN   \n",
      "7496   burgers  frozen vegetables         eggs    french fries    magazines   \n",
      "7497   chicken                NaN          NaN             NaN          NaN   \n",
      "7498  escalope          green tea          NaN             NaN          NaN   \n",
      "7499      eggs    frozen smoothie  yogurt cake  low fat yogurt          NaN   \n",
      "\n",
      "     whole weat flour yams cottage cheese energy drink tomato juice  \\\n",
      "7495              NaN  NaN            NaN          NaN          NaN   \n",
      "7496        green tea  NaN            NaN          NaN          NaN   \n",
      "7497              NaN  NaN            NaN          NaN          NaN   \n",
      "7498              NaN  NaN            NaN          NaN          NaN   \n",
      "7499              NaN  NaN            NaN          NaN          NaN   \n",
      "\n",
      "     low fat yogurt green tea honey salad mineral water salmon  \\\n",
      "7495            NaN       NaN   NaN   NaN           NaN    NaN   \n",
      "7496            NaN       NaN   NaN   NaN           NaN    NaN   \n",
      "7497            NaN       NaN   NaN   NaN           NaN    NaN   \n",
      "7498            NaN       NaN   NaN   NaN           NaN    NaN   \n",
      "7499            NaN       NaN   NaN   NaN           NaN    NaN   \n",
      "\n",
      "     antioxydant juice frozen smoothie spinach  olive oil  \n",
      "7495               NaN             NaN     NaN        NaN  \n",
      "7496               NaN             NaN     NaN        NaN  \n",
      "7497               NaN             NaN     NaN        NaN  \n",
      "7498               NaN             NaN     NaN        NaN  \n",
      "7499               NaN             NaN     NaN        NaN  \n"
     ]
    }
   ],
   "source": [
    "\n",
    "print(df.tail())\n"
   ]
  },
  {
   "cell_type": "code",
   "execution_count": 20,
   "id": "14497fb0-c433-421f-ae67-950247687eae",
   "metadata": {},
   "outputs": [
    {
     "name": "stdout",
     "output_type": "stream",
     "text": [
      "Index(['shrimp', 'almonds', 'avocado', 'vegetables mix', 'green grapes',\n",
      "       'whole weat flour', 'yams', 'cottage cheese', 'energy drink',\n",
      "       'tomato juice', 'low fat yogurt', 'green tea', 'honey', 'salad',\n",
      "       'mineral water', 'salmon', 'antioxydant juice', 'frozen smoothie',\n",
      "       'spinach', 'olive oil'],\n",
      "      dtype='object')\n"
     ]
    }
   ],
   "source": [
    "print(df.columns)"
   ]
  },
  {
   "cell_type": "code",
   "execution_count": 21,
   "id": "def5d1dd-9f8f-4367-b18b-d1027c11de29",
   "metadata": {},
   "outputs": [
    {
     "name": "stdout",
     "output_type": "stream",
     "text": [
      "<class 'pandas.core.frame.DataFrame'>\n",
      "RangeIndex: 7500 entries, 0 to 7499\n",
      "Data columns (total 20 columns):\n",
      " #   Column             Non-Null Count  Dtype  \n",
      "---  ------             --------------  -----  \n",
      " 0   shrimp             7500 non-null   object \n",
      " 1   almonds            5746 non-null   object \n",
      " 2   avocado            4388 non-null   object \n",
      " 3   vegetables mix     3344 non-null   object \n",
      " 4   green grapes       2528 non-null   object \n",
      " 5   whole weat flour   1863 non-null   object \n",
      " 6   yams               1368 non-null   object \n",
      " 7   cottage cheese     980 non-null    object \n",
      " 8   energy drink       653 non-null    object \n",
      " 9   tomato juice       394 non-null    object \n",
      " 10  low fat yogurt     255 non-null    object \n",
      " 11  green tea          153 non-null    object \n",
      " 12  honey              86 non-null     object \n",
      " 13  salad              46 non-null     object \n",
      " 14  mineral water      24 non-null     object \n",
      " 15  salmon             7 non-null      object \n",
      " 16  antioxydant juice  3 non-null      object \n",
      " 17  frozen smoothie    3 non-null      object \n",
      " 18  spinach            2 non-null      object \n",
      " 19  olive oil          0 non-null      float64\n",
      "dtypes: float64(1), object(19)\n",
      "memory usage: 1.1+ MB\n",
      "None\n"
     ]
    }
   ],
   "source": [
    "print(df.info())"
   ]
  },
  {
   "cell_type": "code",
   "execution_count": 22,
   "id": "5158170c-8207-4674-9d87-7c0ab689043c",
   "metadata": {},
   "outputs": [
    {
     "name": "stdout",
     "output_type": "stream",
     "text": [
      "shrimp                object\n",
      "almonds               object\n",
      "avocado               object\n",
      "vegetables mix        object\n",
      "green grapes          object\n",
      "whole weat flour      object\n",
      "yams                  object\n",
      "cottage cheese        object\n",
      "energy drink          object\n",
      "tomato juice          object\n",
      "low fat yogurt        object\n",
      "green tea             object\n",
      "honey                 object\n",
      "salad                 object\n",
      "mineral water         object\n",
      "salmon                object\n",
      "antioxydant juice     object\n",
      "frozen smoothie       object\n",
      "spinach               object\n",
      "olive oil            float64\n",
      "dtype: object\n"
     ]
    }
   ],
   "source": [
    "print(df.dtypes)\n"
   ]
  },
  {
   "cell_type": "code",
   "execution_count": 23,
   "id": "cf5f0978-7619-4684-bfc9-80ddfecc04f3",
   "metadata": {},
   "outputs": [
    {
     "name": "stdout",
     "output_type": "stream",
     "text": [
      "shrimp                  0\n",
      "almonds              1754\n",
      "avocado              3112\n",
      "vegetables mix       4156\n",
      "green grapes         4972\n",
      "whole weat flour     5637\n",
      "yams                 6132\n",
      "cottage cheese       6520\n",
      "energy drink         6847\n",
      "tomato juice         7106\n",
      "low fat yogurt       7245\n",
      "green tea            7347\n",
      "honey                7414\n",
      "salad                7454\n",
      "mineral water        7476\n",
      "salmon               7493\n",
      "antioxydant juice    7497\n",
      "frozen smoothie      7497\n",
      "spinach              7498\n",
      "olive oil            7500\n",
      "dtype: int64\n"
     ]
    }
   ],
   "source": [
    "print(df.isnull().sum())"
   ]
  },
  {
   "cell_type": "code",
   "execution_count": 24,
   "id": "3c24a6d7-b8ed-451c-b1f4-6a7035d9fff4",
   "metadata": {},
   "outputs": [
    {
     "name": "stdout",
     "output_type": "stream",
     "text": [
      "              shrimp       almonds     avocado    vegetables mix green grapes  \\\n",
      "0            burgers     meatballs        eggs               NaN          NaN   \n",
      "1            chutney           NaN         NaN               NaN          NaN   \n",
      "2             turkey       avocado         NaN               NaN          NaN   \n",
      "3      mineral water          milk  energy bar  whole wheat rice    green tea   \n",
      "4     low fat yogurt           NaN         NaN               NaN          NaN   \n",
      "5  whole wheat pasta  french fries         NaN               NaN          NaN   \n",
      "6               soup   light cream     shallot               NaN          NaN   \n",
      "7  frozen vegetables     spaghetti   green tea               NaN          NaN   \n",
      "8       french fries           NaN         NaN               NaN          NaN   \n",
      "9               eggs      pet food         NaN               NaN          NaN   \n",
      "\n",
      "  whole weat flour yams cottage cheese energy drink tomato juice  \\\n",
      "0              NaN  NaN            NaN          NaN          NaN   \n",
      "1              NaN  NaN            NaN          NaN          NaN   \n",
      "2              NaN  NaN            NaN          NaN          NaN   \n",
      "3              NaN  NaN            NaN          NaN          NaN   \n",
      "4              NaN  NaN            NaN          NaN          NaN   \n",
      "5              NaN  NaN            NaN          NaN          NaN   \n",
      "6              NaN  NaN            NaN          NaN          NaN   \n",
      "7              NaN  NaN            NaN          NaN          NaN   \n",
      "8              NaN  NaN            NaN          NaN          NaN   \n",
      "9              NaN  NaN            NaN          NaN          NaN   \n",
      "\n",
      "  low fat yogurt green tea honey salad mineral water salmon antioxydant juice  \\\n",
      "0            NaN       NaN   NaN   NaN           NaN    NaN               NaN   \n",
      "1            NaN       NaN   NaN   NaN           NaN    NaN               NaN   \n",
      "2            NaN       NaN   NaN   NaN           NaN    NaN               NaN   \n",
      "3            NaN       NaN   NaN   NaN           NaN    NaN               NaN   \n",
      "4            NaN       NaN   NaN   NaN           NaN    NaN               NaN   \n",
      "5            NaN       NaN   NaN   NaN           NaN    NaN               NaN   \n",
      "6            NaN       NaN   NaN   NaN           NaN    NaN               NaN   \n",
      "7            NaN       NaN   NaN   NaN           NaN    NaN               NaN   \n",
      "8            NaN       NaN   NaN   NaN           NaN    NaN               NaN   \n",
      "9            NaN       NaN   NaN   NaN           NaN    NaN               NaN   \n",
      "\n",
      "  frozen smoothie spinach  olive oil  \n",
      "0             NaN     NaN        NaN  \n",
      "1             NaN     NaN        NaN  \n",
      "2             NaN     NaN        NaN  \n",
      "3             NaN     NaN        NaN  \n",
      "4             NaN     NaN        NaN  \n",
      "5             NaN     NaN        NaN  \n",
      "6             NaN     NaN        NaN  \n",
      "7             NaN     NaN        NaN  \n",
      "8             NaN     NaN        NaN  \n",
      "9             NaN     NaN        NaN  \n"
     ]
    }
   ],
   "source": [
    "print(df.head(10))"
   ]
  },
  {
   "cell_type": "code",
   "execution_count": 30,
   "id": "6219ff3b-fdd1-4a0e-bc63-f4deae2c1f0e",
   "metadata": {},
   "outputs": [
    {
     "name": "stdout",
     "output_type": "stream",
     "text": [
      "(7500, 20)\n"
     ]
    }
   ],
   "source": [
    "print(df.shape)\n"
   ]
  },
  {
   "cell_type": "code",
   "execution_count": 31,
   "id": "6997a0f7-11ae-4379-b15f-fa43cdf4cf31",
   "metadata": {},
   "outputs": [
    {
     "name": "stdout",
     "output_type": "stream",
     "text": [
      "       olive oil\n",
      "count        0.0\n",
      "mean         NaN\n",
      "std          NaN\n",
      "min          NaN\n",
      "25%          NaN\n",
      "50%          NaN\n",
      "75%          NaN\n",
      "max          NaN\n"
     ]
    }
   ],
   "source": [
    "print(df.describe())"
   ]
  },
  {
   "cell_type": "code",
   "execution_count": 36,
   "id": "1deae5bb-7f59-41cc-9ffd-c536b706552b",
   "metadata": {},
   "outputs": [],
   "source": [
    "salary_Data= pd.read_csv(\"Salary_Data.csv\")"
   ]
  },
  {
   "cell_type": "code",
   "execution_count": 37,
   "id": "d87d53f4-e948-4cf3-b011-a580c01ba8cc",
   "metadata": {},
   "outputs": [
    {
     "name": "stdout",
     "output_type": "stream",
     "text": [
      "   YearsExperience  Salary\n",
      "0              1.1   39343\n",
      "1              1.3   46205\n",
      "2              1.5   37731\n",
      "3              2.0   43525\n",
      "4              2.2   39891\n"
     ]
    }
   ],
   "source": [
    "\n",
    "print(salary_Data.head())"
   ]
  },
  {
   "cell_type": "code",
   "execution_count": 38,
   "id": "6ec2ead6-2190-4de8-92d1-e97bc591b585",
   "metadata": {},
   "outputs": [
    {
     "name": "stdout",
     "output_type": "stream",
     "text": [
      "   YearsExperience  Salary\n",
      "0              1.1   39343\n",
      "1              1.3   46205\n",
      "2              1.5   37731\n",
      "3              2.0   43525\n",
      "4              2.2   39891\n",
      "5              2.9   56642\n",
      "6              3.0   60150\n",
      "7              3.2   54445\n",
      "8              3.2   64445\n",
      "9              3.7   57189\n"
     ]
    }
   ],
   "source": [
    "print(salary_Data.head(10))"
   ]
  },
  {
   "cell_type": "code",
   "execution_count": 39,
   "id": "a88e25a3-20a5-4b95-835b-f7cc60129951",
   "metadata": {},
   "outputs": [
    {
     "name": "stdout",
     "output_type": "stream",
     "text": [
      "    YearsExperience  Salary\n",
      "23              8.2  113812\n",
      "24              8.7  109431\n",
      "25              9.0  105582\n",
      "26              9.5  116969\n",
      "27              9.6  112635\n",
      "28             10.3  122391\n",
      "29             10.5  121872\n",
      "30             11.0  140000\n",
      "31             12.0  155000\n",
      "32             13.0  156000\n"
     ]
    }
   ],
   "source": [
    "print(salary_Data.tail(10))"
   ]
  },
  {
   "cell_type": "code",
   "execution_count": null,
   "id": "bc835a4b-7941-4f40-9aab-514c9390ddcf",
   "metadata": {},
   "outputs": [],
   "source": []
  }
 ],
 "metadata": {
  "kernelspec": {
   "display_name": "Python 3 (ipykernel)",
   "language": "python",
   "name": "python3"
  },
  "language_info": {
   "codemirror_mode": {
    "name": "ipython",
    "version": 3
   },
   "file_extension": ".py",
   "mimetype": "text/x-python",
   "name": "python",
   "nbconvert_exporter": "python",
   "pygments_lexer": "ipython3",
   "version": "3.10.12"
  }
 },
 "nbformat": 4,
 "nbformat_minor": 5
}
