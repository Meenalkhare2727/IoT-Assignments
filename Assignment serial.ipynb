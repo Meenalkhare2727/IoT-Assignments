{
 "cells": [
  {
   "cell_type": "code",
   "execution_count": 39,
   "id": "47f3749d-eb09-4183-befb-f3fbb2e69b8e",
   "metadata": {},
   "outputs": [],
   "source": [
    "import numpy as np"
   ]
  },
  {
   "cell_type": "code",
   "execution_count": 40,
   "id": "2cf65d90-a84e-4821-9b66-d10bed99fda9",
   "metadata": {},
   "outputs": [
    {
     "name": "stdout",
     "output_type": "stream",
     "text": [
      "[30 31 32 33 34 35 36 37 38 39 40 41 42 43 44 45 46 47 48 49 50 51 52 53\n",
      " 54 55 56 57 58 59 60 61 62 63 64 65 66 67 68 69]\n"
     ]
    }
   ],
   "source": [
    "arr1 = np.arange(30,70)\n",
    "print(arr1)"
   ]
  },
  {
   "cell_type": "code",
   "execution_count": 41,
   "id": "b73c38a8-50cc-4736-bb74-d63ffa83f0dc",
   "metadata": {},
   "outputs": [
    {
     "name": "stdout",
     "output_type": "stream",
     "text": [
      "[50 51 52 53 54 55 56 57 58 59 60 61 62 63 64 65 66 67 68 69 70 71 72 73\n",
      " 74 75 76 77 78 79 80 81 82 83 84 85 86 87 88 89 90 91 92 93 94]\n"
     ]
    }
   ],
   "source": [
    "arr1 =np.arange(50,95)\n",
    "print(arr1)"
   ]
  },
  {
   "cell_type": "code",
   "execution_count": 42,
   "id": "f7a816e8-0a66-4ec1-a368-f4c18e372e63",
   "metadata": {},
   "outputs": [
    {
     "name": "stdout",
     "output_type": "stream",
     "text": [
      "[20 22 24 26 28 30 32 34 36 38 40 42 44 46 48 50 52 54 56 58 60 62 64 66\n",
      " 68 70 72 74 76 78]\n"
     ]
    }
   ],
   "source": [
    "arr1 =np.arange(20,80,2)\n",
    "print(arr1)"
   ]
  },
  {
   "cell_type": "code",
   "execution_count": 43,
   "id": "c29e6c0e-50dd-4fc9-b5ac-a7fa4d4380a1",
   "metadata": {},
   "outputs": [
    {
     "name": "stdout",
     "output_type": "stream",
     "text": [
      "[20 23 26 29 32 35 38 41 44 47 50 53 56 59 62 65 68 71 74 77]\n"
     ]
    }
   ],
   "source": [
    "arr2 =np.arange(20,80,3)\n",
    "print(arr2)"
   ]
  },
  {
   "cell_type": "code",
   "execution_count": 44,
   "id": "20876a97-c492-433d-b61d-7111751b10da",
   "metadata": {},
   "outputs": [
    {
     "name": "stdout",
     "output_type": "stream",
     "text": [
      "[11 18 39 15 29 18 20 34 26 33 37 22 23 27 20]\n"
     ]
    }
   ],
   "source": [
    "arr3 = np.random.randint(10,40,15)\n",
    "print(arr3)"
   ]
  },
  {
   "cell_type": "raw",
   "id": "968fb3df-3e55-4cf1-b757-9b2acf25eb47",
   "metadata": {},
   "source": [
    "arr3 =np.random.randint(30,50,10)\n",
    "print(arr3)"
   ]
  },
  {
   "cell_type": "code",
   "execution_count": 45,
   "id": "b737c972-b8bf-4ac6-89ec-26080a3b6c8f",
   "metadata": {},
   "outputs": [
    {
     "name": "stdout",
     "output_type": "stream",
     "text": [
      "[41 43 43 34 41 31 30 44 42 49]\n"
     ]
    }
   ],
   "source": [
    "arr3 =np.random.randint(30,50,10)\n",
    "print(arr3)"
   ]
  },
  {
   "cell_type": "code",
   "execution_count": 46,
   "id": "bcd07dfc-6e70-4d1b-84e8-4ca3c6b6b504",
   "metadata": {},
   "outputs": [
    {
     "name": "stdout",
     "output_type": "stream",
     "text": [
      "[68 61 86 70 60 77 87 51 60 82 51 77 60 75 69 84 63 86 53 53]\n"
     ]
    }
   ],
   "source": [
    "arr4= np.random.randint(50,90,20)\n",
    "print(arr4)"
   ]
  },
  {
   "cell_type": "code",
   "execution_count": 47,
   "id": "d03f007d-bdc2-448d-8e31-de7e68a648b8",
   "metadata": {},
   "outputs": [
    {
     "name": "stdout",
     "output_type": "stream",
     "text": [
      "[0. 0. 0. 0. 0. 0. 0. 0. 0. 0.]\n"
     ]
    }
   ],
   "source": [
    "arr4 = np.zeros(10)\n",
    "print(arr4)"
   ]
  },
  {
   "cell_type": "code",
   "execution_count": 48,
   "id": "ccf139b1-4e3d-4204-8762-c2f8e0a7f58a",
   "metadata": {},
   "outputs": [
    {
     "name": "stdout",
     "output_type": "stream",
     "text": [
      "[1. 1. 1. 1. 1. 1. 1. 1. 1. 1.]\n"
     ]
    }
   ],
   "source": [
    "arr4 = np.ones(10)\n",
    "print(arr4)"
   ]
  },
  {
   "cell_type": "code",
   "execution_count": 49,
   "id": "c5c2a749-5186-4ff1-9ff4-20395f39b7fc",
   "metadata": {},
   "outputs": [
    {
     "name": "stdout",
     "output_type": "stream",
     "text": [
      "[1. 1. 1. 1. 1. 1. 1. 1. 1. 1.]\n"
     ]
    }
   ],
   "source": [
    "arr4 = np.ones(10)\n",
    "\n",
    "print(arr4)"
   ]
  },
  {
   "cell_type": "code",
   "execution_count": null,
   "id": "2cd9cf27-8034-42fa-ada1-9c2321f81cd4",
   "metadata": {},
   "outputs": [],
   "source": []
  },
  {
   "cell_type": "code",
   "execution_count": 51,
   "id": "7a16f03c-6512-4aca-a264-7d340c898512",
   "metadata": {},
   "outputs": [
    {
     "name": "stdout",
     "output_type": "stream",
     "text": [
      "[5. 5. 5. 5. 5. 5. 5. 5. 5. 5.]\n"
     ]
    }
   ],
   "source": [
    "arr4 = np.ones(10)*5\n",
    "\n",
    "print(arr4)"
   ]
  },
  {
   "cell_type": "code",
   "execution_count": 52,
   "id": "e928e26e-c5f7-4c3d-8c14-c3230f1b90e3",
   "metadata": {},
   "outputs": [
    {
     "name": "stdout",
     "output_type": "stream",
     "text": [
      "[10. 10. 10. 10. 10. 10. 10. 10. 10. 10.]\n"
     ]
    }
   ],
   "source": [
    "arr4 = np.ones(10)*10\n",
    "\n",
    "print(arr4)"
   ]
  },
  {
   "cell_type": "code",
   "execution_count": 53,
   "id": "0de23f47-c0f1-4e9d-8439-0cc5b6db4f03",
   "metadata": {},
   "outputs": [
    {
     "name": "stdout",
     "output_type": "stream",
     "text": [
      "[20. 20. 20. 20. 20. 20. 20. 20. 20. 20.]\n"
     ]
    }
   ],
   "source": [
    "arr4 = np.ones(10)*20\n",
    "\n",
    "print(arr4)"
   ]
  },
  {
   "cell_type": "code",
   "execution_count": 54,
   "id": "793dab0d-55ad-460b-b8e7-594af1ac1b7a",
   "metadata": {},
   "outputs": [
    {
     "name": "stdout",
     "output_type": "stream",
     "text": [
      "[50. 50. 50. 50. 50. 50. 50. 50. 50. 50.]\n"
     ]
    }
   ],
   "source": [
    "arr4 = np.ones(10)*50\n",
    "\n",
    "print(arr4)"
   ]
  },
  {
   "cell_type": "code",
   "execution_count": 55,
   "id": "4d4547e2-0707-42d7-9a1e-8d72755669d8",
   "metadata": {},
   "outputs": [
    {
     "name": "stdout",
     "output_type": "stream",
     "text": [
      "N1 = [10 20 30 40 50]\n",
      "N2 =[60 70 80 90 20]\n",
      "[ 70  90 110 130  70]\n",
      "[-50 -50 -50 -50  30]\n",
      "[ 600 1400 2400 3600 1000]\n",
      "[0.16666667 0.28571429 0.375      0.44444444 2.5       ]\n"
     ]
    }
   ],
   "source": [
    "n1 = np.array([10,20,30,40,50])\n",
    "n2 = np.array([60,70,80,90,20])\n",
    "print(f\"N1 = {n1}\")\n",
    "print(f\"N2 ={n2}\")\n",
    "print(n1+n2)\n",
    "print(n1-n2)\n",
    "print(n1*n2)\n",
    "print(n1/n2)"
   ]
  },
  {
   "cell_type": "code",
   "execution_count": 58,
   "id": "67773a1e-cee7-462b-a3aa-9c65d8f24fe1",
   "metadata": {},
   "outputs": [],
   "source": [
    "def function1():\n",
    "    arr1 = ([1,7,13,105])\n",
    "    print(arr1)\n",
    "    print(f\"Size ={arr1.size}\")"
   ]
  },
  {
   "cell_type": "code",
   "execution_count": null,
   "id": "884d4f9b-7320-482d-929a-6478dafd7b86",
   "metadata": {},
   "outputs": [],
   "source": [
    "def function3():\n",
    "    arr = np.array([10,20,30,40,50,60])\n",
    "    print(arr)\n",
    "    print(f\"Type = {type(arr)}\")\n",
    "    print(f\"Dtype ={arr.dtype}\")\n",
    "    print(f\"Item Size = {arr.itemsize}\")\n",
    "    print(f\"Size ={arr.size}\")\n",
    "    print(f\"NDIM = {arr.ndim}\")\n",
    "    print(f\"NBYTES={arr.nbytes}\")"
   ]
  },
  {
   "cell_type": "code",
   "execution_count": 66,
   "id": "c6df812f-6bf1-4d1f-8d9a-254bfea8899e",
   "metadata": {},
   "outputs": [],
   "source": [
    "import numpy as np"
   ]
  },
  {
   "cell_type": "code",
   "execution_count": 106,
   "id": "8ce60d69-6c19-4365-ae67-754bba3e38cc",
   "metadata": {},
   "outputs": [],
   "source": [
    "def function3():\n",
    "    arr = np.array([1,7,13,105])\n",
    "    print(arr)\n",
    "    print(f\"Type = {type(arr)}\")\n",
    "    print(f\"Dtype ={arr.dtype}\")\n",
    "    print(f\"Item Size = {arr.itemsize}\")\n",
    "    print(f\"Size ={arr.size}\")\n",
    "    print(f\"NDIM = {arr.ndim}\")\n",
    "    print(f\"NBYTES={arr.nbytes}\")"
   ]
  },
  {
   "cell_type": "code",
   "execution_count": 107,
   "id": "113bbd64-a496-469a-8707-1daacd1d9330",
   "metadata": {},
   "outputs": [
    {
     "name": "stdout",
     "output_type": "stream",
     "text": [
      "[  1   7  13 105]\n",
      "Type = <class 'numpy.ndarray'>\n",
      "Dtype =int64\n",
      "Item Size = 8\n",
      "Size =4\n",
      "NDIM = 1\n",
      "NBYTES=32\n"
     ]
    }
   ],
   "source": [
    "function3()"
   ]
  },
  {
   "cell_type": "code",
   "execution_count": 108,
   "id": "0e214187-5e30-4e61-b69e-a69b520c5983",
   "metadata": {},
   "outputs": [],
   "source": [
    "import numpy as np"
   ]
  },
  {
   "cell_type": "code",
   "execution_count": 117,
   "id": "cdb2fe56-6698-44b2-933c-6360df54a5b4",
   "metadata": {},
   "outputs": [
    {
     "name": "stdout",
     "output_type": "stream",
     "text": [
      "[[10 11 12 13]\n",
      " [14 15 16 17]\n",
      " [18 19 20 21]]\n"
     ]
    }
   ],
   "source": [
    "a = np.arange(10,22\n",
    ").reshape(3,4)\n",
    "print(a)"
   ]
  },
  {
   "cell_type": "code",
   "execution_count": 123,
   "id": "0ff5ad72-3fee-410f-9ffb-92cf5f4ae781",
   "metadata": {},
   "outputs": [
    {
     "name": "stdout",
     "output_type": "stream",
     "text": [
      "[[ 2  3  4]\n",
      " [ 5  6  7]\n",
      " [ 8  9 10]]\n"
     ]
    }
   ],
   "source": [
    "a = np.arange(2,11).reshape(3,3)\n",
    "print(a)"
   ]
  },
  {
   "cell_type": "code",
   "execution_count": 124,
   "id": "c9e6a14f-dab1-4750-a9d3-212e0ef2e7f7",
   "metadata": {},
   "outputs": [
    {
     "name": "stdout",
     "output_type": "stream",
     "text": [
      "[12 13 14 15 16 17 18 19 20 21 22 23 24 25 26 27 28 29 30 31 32 33 34 35\n",
      " 36 37]\n"
     ]
    }
   ],
   "source": [
    "a = np.arange(12,38)\n",
    "print(a)"
   ]
  },
  {
   "cell_type": "code",
   "execution_count": 125,
   "id": "932effe1-4749-4f8c-b227-e9fad026fd72",
   "metadata": {},
   "outputs": [],
   "source": [
    "def function1():\n",
    "    a = np.array([10,20,30,40,50,60],dtype=np.float16)\n",
    "    print(a)\n",
    "    "
   ]
  },
  {
   "cell_type": "code",
   "execution_count": 126,
   "id": "09ce57a1-c254-4fb4-bc16-c6ee6ffe700d",
   "metadata": {},
   "outputs": [
    {
     "name": "stdout",
     "output_type": "stream",
     "text": [
      "[10. 20. 30. 40. 50. 60.]\n"
     ]
    }
   ],
   "source": [
    "function1()"
   ]
  },
  {
   "cell_type": "code",
   "execution_count": 129,
   "id": "5dc06eda-ff64-4f25-a729-576ca828e4af",
   "metadata": {},
   "outputs": [
    {
     "name": "stdout",
     "output_type": "stream",
     "text": [
      "[[1 0 0]\n",
      " [0 1 0]\n",
      " [0 0 1]]\n"
     ]
    }
   ],
   "source": [
    "a= np.diag([1,1,1]).reshape(3,3)\n",
    "print(a)"
   ]
  },
  {
   "cell_type": "code",
   "execution_count": 130,
   "id": "4030f83c-4ab4-4781-ac6a-334c673d1d0a",
   "metadata": {},
   "outputs": [
    {
     "name": "stdout",
     "output_type": "stream",
     "text": [
      "[[[0.17582344 0.67668759 0.37321693]\n",
      "  [0.98981753 0.93303764 0.46642129]\n",
      "  [0.64103165 0.49708596 0.00208169]]\n",
      "\n",
      " [[0.10088728 0.94396917 0.66992397]\n",
      "  [0.02501549 0.96932908 0.44696709]\n",
      "  [0.506084   0.34630545 0.43707137]]\n",
      "\n",
      " [[0.67818153 0.91335921 0.3339175 ]\n",
      "  [0.78667676 0.9581618  0.50896322]\n",
      "  [0.14570984 0.7879469  0.88673461]]]\n"
     ]
    }
   ],
   "source": [
    "a= np.random.random([3,3,3])\n",
    "print(a)"
   ]
  },
  {
   "cell_type": "code",
   "execution_count": 131,
   "id": "c34c049f-ba1e-4ae1-a66d-0a049eb111de",
   "metadata": {},
   "outputs": [
    {
     "name": "stdout",
     "output_type": "stream",
     "text": [
      "[[[0.56569916 0.14049014 0.12069629 0.63468933]\n",
      "  [0.29562141 0.02181903 0.6812667  0.51231961]\n",
      "  [0.37773412 0.99680091 0.80311195 0.48278973]]\n",
      "\n",
      " [[0.54255278 0.62944818 0.77993728 0.63018758]\n",
      "  [0.80957473 0.33651745 0.0222878  0.0322805 ]\n",
      "  [0.21707221 0.89233468 0.91804567 0.52041638]]]\n"
     ]
    }
   ],
   "source": [
    "a =np.random.random([2,3,4])\n",
    "print(a)"
   ]
  },
  {
   "cell_type": "code",
   "execution_count": 133,
   "id": "72ef1e39-f62a-4bc8-9831-c5477de4fe4a",
   "metadata": {},
   "outputs": [],
   "source": [
    "def function1():\n",
    "    a = np.flip([10,20,30,40,50,60])\n",
    "    print(a)"
   ]
  },
  {
   "cell_type": "code",
   "execution_count": 134,
   "id": "cd128919-da05-4688-9892-413a6396d9b5",
   "metadata": {},
   "outputs": [
    {
     "name": "stdout",
     "output_type": "stream",
     "text": [
      "[60 50 40 30 20 10]\n"
     ]
    }
   ],
   "source": [
    "function1()"
   ]
  },
  {
   "cell_type": "code",
   "execution_count": 135,
   "id": "f404c45f-ba44-4feb-95c1-d92ca3a13371",
   "metadata": {},
   "outputs": [
    {
     "name": "stdout",
     "output_type": "stream",
     "text": [
      "[[1 0 0 0 0]\n",
      " [0 2 0 0 0]\n",
      " [0 0 3 0 0]\n",
      " [0 0 0 4 0]\n",
      " [0 0 0 0 5]]\n"
     ]
    }
   ],
   "source": [
    "a =np.diag([1,2,3,4,5]).reshape(5,5)\n",
    "print(a)"
   ]
  },
  {
   "cell_type": "code",
   "execution_count": null,
   "id": "0b716ca7-4cec-466e-b8df-9f60d384c2e5",
   "metadata": {},
   "outputs": [],
   "source": []
  }
 ],
 "metadata": {
  "kernelspec": {
   "display_name": "Python 3 (ipykernel)",
   "language": "python",
   "name": "python3"
  },
  "language_info": {
   "codemirror_mode": {
    "name": "ipython",
    "version": 3
   },
   "file_extension": ".py",
   "mimetype": "text/x-python",
   "name": "python",
   "nbconvert_exporter": "python",
   "pygments_lexer": "ipython3",
   "version": "3.10.12"
  }
 },
 "nbformat": 4,
 "nbformat_minor": 5
}
